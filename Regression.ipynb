{
 "cells": [
  {
   "cell_type": "code",
   "execution_count": 1,
   "metadata": {},
   "outputs": [
    {
     "name": "stdout",
     "output_type": "stream",
     "text": [
      "       Country  Year      Status  Life_expectancy  Adult_Mortality  \\\n",
      "0  Afghanistan  2015  Developing             65.0            263.0   \n",
      "1  Afghanistan  2014  Developing             59.9            271.0   \n",
      "2  Afghanistan  2013  Developing             59.9            268.0   \n",
      "3  Afghanistan  2012  Developing             59.5            272.0   \n",
      "4  Afghanistan  2011  Developing             59.2            275.0   \n",
      "\n",
      "   infant_deaths  Alcohol  percentage_expenditure  Hepatitis_B  Measles  ...  \\\n",
      "0             62     0.01               71.279624         65.0     1154  ...   \n",
      "1             64     0.01               73.523582         62.0      492  ...   \n",
      "2             66     0.01               73.219243         64.0      430  ...   \n",
      "3             69     0.01               78.184215         67.0     2787  ...   \n",
      "4             71     0.01                7.097109         68.0     3013  ...   \n",
      "\n",
      "   Polio  Total_expenditure  Diphtheria  HIV_AIDS         GDP  Population  \\\n",
      "0    6.0               8.16        65.0       0.1  584.259210  33736494.0   \n",
      "1   58.0               8.18        62.0       0.1  612.696514    327582.0   \n",
      "2   62.0               8.13        64.0       0.1  631.744976  31731688.0   \n",
      "3   67.0               8.52        67.0       0.1  669.959000   3696958.0   \n",
      "4   68.0               7.87        68.0       0.1   63.537231   2978599.0   \n",
      "\n",
      "   thinness_1_19 years  thinness_5_9_years   icor  Schooling   \n",
      "0                 17.2                17.3  0.479        10.1  \n",
      "1                 17.5                17.5  0.476        10.0  \n",
      "2                 17.7                17.7  0.470         9.9  \n",
      "3                 17.9                18.0  0.463         9.8  \n",
      "4                 18.2                18.2  0.454         9.5  \n",
      "\n",
      "[5 rows x 22 columns]\n"
     ]
    }
   ],
   "source": [
    "import pandas as pd\n",
    "import numpy as np\n",
    "\n",
    "df=pd.read_csv(\"led.csv\",sep=\",\")\n",
    "print(df.head())"
   ]
  },
  {
   "cell_type": "code",
   "execution_count": 2,
   "metadata": {},
   "outputs": [
    {
     "name": "stdout",
     "output_type": "stream",
     "text": [
      "              Year  Life_expectancy  Adult_Mortality  infant_deaths  \\\n",
      "count  2938.000000      2928.000000      2928.000000    2938.000000   \n",
      "mean   2007.518720        69.224932       164.796448      30.303948   \n",
      "std       4.613841         9.523867       124.292079     117.926501   \n",
      "min    2000.000000        36.300000         1.000000       0.000000   \n",
      "25%    2004.000000        63.100000        74.000000       0.000000   \n",
      "50%    2008.000000        72.100000       144.000000       3.000000   \n",
      "75%    2012.000000        75.700000       228.000000      22.000000   \n",
      "max    2015.000000        89.000000       723.000000    1800.000000   \n",
      "\n",
      "           Alcohol  percentage_expenditure  Hepatitis_B        Measles  \\\n",
      "count  2744.000000             2938.000000  2385.000000    2938.000000   \n",
      "mean      4.602861              738.251295    80.940461    2419.592240   \n",
      "std       4.052413             1987.914858    25.070016   11467.272489   \n",
      "min       0.010000                0.000000     1.000000       0.000000   \n",
      "25%       0.877500                4.685343    77.000000       0.000000   \n",
      "50%       3.755000               64.912906    92.000000      17.000000   \n",
      "75%       7.702500              441.534144    97.000000     360.250000   \n",
      "max      17.870000            19479.911610    99.000000  212183.000000   \n",
      "\n",
      "               BMI  under_five_deaths        Polio  Total_expenditure  \\\n",
      "count  2904.000000        2938.000000  2919.000000         2712.00000   \n",
      "mean     38.321247          42.035739    82.550188            5.93819   \n",
      "std      20.044034         160.445548    23.428046            2.49832   \n",
      "min       1.000000           0.000000     3.000000            0.37000   \n",
      "25%      19.300000           0.000000    78.000000            4.26000   \n",
      "50%      43.500000           4.000000    93.000000            5.75500   \n",
      "75%      56.200000          28.000000    97.000000            7.49250   \n",
      "max      87.300000        2500.000000    99.000000           17.60000   \n",
      "\n",
      "        Diphtheria     HIV_AIDS            GDP    Population  \\\n",
      "count  2919.000000  2938.000000    2490.000000  2.286000e+03   \n",
      "mean     82.324084     1.742103    7483.158469  1.275338e+07   \n",
      "std      23.716912     5.077785   14270.169342  6.101210e+07   \n",
      "min       2.000000     0.100000       1.681350  3.400000e+01   \n",
      "25%      78.000000     0.100000     463.935626  1.957932e+05   \n",
      "50%      93.000000     0.100000    1766.947595  1.386542e+06   \n",
      "75%      97.000000     0.800000    5910.806335  7.420359e+06   \n",
      "max      99.000000    50.600000  119172.741800  1.293859e+09   \n",
      "\n",
      "       thinness_1_19 years  thinness_5_9_years         icor   Schooling   \n",
      "count          2904.000000         2904.000000  2771.000000  2775.000000  \n",
      "mean              4.839704            4.870317     0.627551    11.992793  \n",
      "std               4.420195            4.508882     0.210904     3.358920  \n",
      "min               0.100000            0.100000     0.000000     0.000000  \n",
      "25%               1.600000            1.500000     0.493000    10.100000  \n",
      "50%               3.300000            3.300000     0.677000    12.300000  \n",
      "75%               7.200000            7.200000     0.779000    14.300000  \n",
      "max              27.700000           28.600000     0.948000    20.700000  \n"
     ]
    }
   ],
   "source": [
    "print(df.describe())"
   ]
  },
  {
   "cell_type": "code",
   "execution_count": 3,
   "metadata": {},
   "outputs": [
    {
     "name": "stdout",
     "output_type": "stream",
     "text": [
      "<class 'pandas.core.frame.DataFrame'>\n",
      "RangeIndex: 2938 entries, 0 to 2937\n",
      "Data columns (total 22 columns):\n",
      "Country                   2938 non-null object\n",
      "Year                      2938 non-null int64\n",
      "Status                    2938 non-null object\n",
      "Life_expectancy           2928 non-null float64\n",
      "Adult_Mortality           2928 non-null float64\n",
      "infant_deaths             2938 non-null int64\n",
      "Alcohol                   2744 non-null float64\n",
      "percentage_expenditure    2938 non-null float64\n",
      "Hepatitis_B               2385 non-null float64\n",
      "Measles                   2938 non-null int64\n",
      "BMI                       2904 non-null float64\n",
      "under_five_deaths         2938 non-null int64\n",
      "Polio                     2919 non-null float64\n",
      "Total_expenditure         2712 non-null float64\n",
      "Diphtheria                2919 non-null float64\n",
      "HIV_AIDS                  2938 non-null float64\n",
      "GDP                       2490 non-null float64\n",
      "Population                2286 non-null float64\n",
      "thinness_1_19 years       2904 non-null float64\n",
      "thinness_5_9_years        2904 non-null float64\n",
      "icor                      2771 non-null float64\n",
      "Schooling                 2775 non-null float64\n",
      "dtypes: float64(16), int64(4), object(2)\n",
      "memory usage: 505.0+ KB\n",
      "None\n"
     ]
    }
   ],
   "source": [
    "print(df.info())"
   ]
  },
  {
   "cell_type": "code",
   "execution_count": 4,
   "metadata": {},
   "outputs": [
    {
     "name": "stdout",
     "output_type": "stream",
     "text": [
      "   Life_expectancy  Adult_Mortality  infant_deaths  Measles  Diphtheria  \\\n",
      "0             65.0            263.0             62     1154        65.0   \n",
      "1             59.9            271.0             64      492        62.0   \n",
      "2             59.9            268.0             66      430        64.0   \n",
      "3             59.5            272.0             69     2787        67.0   \n",
      "4             59.2            275.0             71     3013        68.0   \n",
      "\n",
      "   HIV_AIDS  \n",
      "0       0.1  \n",
      "1       0.1  \n",
      "2       0.1  \n",
      "3       0.1  \n",
      "4       0.1  \n"
     ]
    }
   ],
   "source": [
    "df=df.loc[:,[\"Life_expectancy\",\"Adult_Mortality\",\"infant_deaths\",\"Measles\",\"Diphtheria\",\"HIV_AIDS\"]]\n",
    "print(df.head())"
   ]
  },
  {
   "cell_type": "code",
   "execution_count": 5,
   "metadata": {},
   "outputs": [
    {
     "name": "stdout",
     "output_type": "stream",
     "text": [
      "[ 0.1  1.9  2.   2.3  2.6  2.5  2.4  2.1  0.2  0.4  0.8  0.7  0.9  0.5\n",
      "  0.3  0.6  1.5  1.   1.1  1.2  1.3  1.4  1.6  1.8  2.2  2.8  4.4  5.5\n",
      "  6.2  9.  12.7 13.4 14.4 20.6 28.4 31.9 34.6 37.2 38.8  1.7  2.9  3.2\n",
      "  3.6  4.   3.4  3.8  4.3  4.8  5.1  5.2  5.3  3.3  3.7  4.1  5.8  6.1\n",
      "  6.5  6.7  6.9  7.   7.1  3.5  4.6  4.9  6.3  7.2  7.4  7.5  7.7  7.8\n",
      "  7.9  4.5  6.6  7.3  8.3 10.  11.2 12.  12.8 13.9 14.3  3.1  3.9  4.7\n",
      "  5.   3.   5.9  6.8  7.6  2.7  4.2  5.7  8.2  6.   8.   8.9 10.7 10.9\n",
      " 11.1 11.  10.1  9.5  5.6  5.4  6.4  9.1 10.3 11.6 13.2 14.5 15.7 16.9\n",
      " 18.1  9.3  9.4  9.6 10.5 18.2 27.3 30.  34.1 34.8 33.8 32.5 31.2 29.8\n",
      " 13.7 14.9 19.3 21.1 22.4 23.4 24.2 24.7 25.1 25.5 10.8 11.3 12.6 14.1\n",
      " 16.3 16.2 15.9 15.3 12.2  8.7 11.7 15.2 19.2 22.1 24.  24.6 23.9 22.8\n",
      "  8.1  8.5 19.  23.5 26.4 28.1 29.5 29.7 28.9 26.6 21.3  9.8 21.6 33.7\n",
      " 40.2 40.7 43.7 49.1 50.3 50.6 49.9 48.8 46.4  8.4  8.6 11.5 12.1 12.5\n",
      " 11.9 13.6 17.  17.6 18.4 18.6 18.7  8.8 13.3 20.5 23.7 26.8 30.3 33.6\n",
      " 36.7 39.8 42.1 43.5]\n"
     ]
    }
   ],
   "source": [
    "print(df.HIV_AIDS.unique())"
   ]
  },
  {
   "cell_type": "code",
   "execution_count": 6,
   "metadata": {},
   "outputs": [
    {
     "name": "stdout",
     "output_type": "stream",
     "text": [
      "Life_expectancy    10\n",
      "Adult_Mortality    10\n",
      "infant_deaths       0\n",
      "Measles             0\n",
      "Diphtheria         19\n",
      "HIV_AIDS            0\n",
      "dtype: int64\n",
      "39\n"
     ]
    }
   ],
   "source": [
    "#Kayıp verilerin tespiti \n",
    "print(df.isnull().sum())\n",
    "print(df.isnull().sum().sum())"
   ]
  },
  {
   "cell_type": "code",
   "execution_count": 7,
   "metadata": {},
   "outputs": [],
   "source": [
    "#replacing\n",
    "df[\"Life_expectancy\"]=df[\"Life_expectancy\"].interpolate()\n",
    "df[\"Adult_Mortality\"]=df[\"Adult_Mortality\"].interpolate()\n",
    "df[\"Diphtheria\"]=df[\"Diphtheria\"].interpolate()"
   ]
  },
  {
   "cell_type": "code",
   "execution_count": 8,
   "metadata": {},
   "outputs": [
    {
     "name": "stdout",
     "output_type": "stream",
     "text": [
      "0\n"
     ]
    }
   ],
   "source": [
    "print(df.isnull().sum().sum())"
   ]
  },
  {
   "cell_type": "code",
   "execution_count": 9,
   "metadata": {},
   "outputs": [
    {
     "name": "stdout",
     "output_type": "stream",
     "text": [
      "Life_expectancy    float64\n",
      "Adult_Mortality    float64\n",
      "infant_deaths        int64\n",
      "Measles              int64\n",
      "Diphtheria         float64\n",
      "HIV_AIDS           float64\n",
      "dtype: object\n"
     ]
    }
   ],
   "source": [
    "print(df.dtypes)"
   ]
  },
  {
   "cell_type": "code",
   "execution_count": 10,
   "metadata": {},
   "outputs": [
    {
     "name": "stdout",
     "output_type": "stream",
     "text": [
      "Life_expectancy    float64\n",
      "Adult_Mortality      int32\n",
      "infant_deaths        int64\n",
      "Measles              int64\n",
      "Diphtheria           int32\n",
      "HIV_AIDS             int32\n",
      "dtype: object\n"
     ]
    }
   ],
   "source": [
    "donusum = {\"Adult_Mortality\": int,\n",
    "           \"Diphtheria\":int,\n",
    "           \"HIV_AIDS\":int,\n",
    "          } \n",
    "df=df.astype(donusum)\n",
    "print(df.dtypes)"
   ]
  },
  {
   "cell_type": "code",
   "execution_count": 11,
   "metadata": {},
   "outputs": [
    {
     "name": "stdout",
     "output_type": "stream",
     "text": [
      "      Life_expectancy  Adult_Mortality  infant_deaths  Measles  Diphtheria  \\\n",
      "455              72.4              124              0        0          99   \n",
      "607              59.5              272              1        0           7   \n",
      "660              78.7               96              1        0          99   \n",
      "1167             72.5              184              1        0          99   \n",
      "1462             75.0               93              1        9          81   \n",
      "1864             73.9              157              2        0          98   \n",
      "2009             75.3              125              8        0          88   \n",
      "2056             89.0               78              0        0          98   \n",
      "2198             79.0              186              0        0          99   \n",
      "2294             72.1              186              0        0          99   \n",
      "\n",
      "      HIV_AIDS  \n",
      "455          0  \n",
      "607          0  \n",
      "660          0  \n",
      "1167         0  \n",
      "1462         0  \n",
      "1864         0  \n",
      "2009         0  \n",
      "2056         0  \n",
      "2198         0  \n",
      "2294         0  \n"
     ]
    }
   ],
   "source": [
    "print(df[df.duplicated()])"
   ]
  },
  {
   "cell_type": "code",
   "execution_count": 12,
   "metadata": {},
   "outputs": [],
   "source": [
    "df.drop_duplicates(inplace=True)"
   ]
  },
  {
   "cell_type": "code",
   "execution_count": 13,
   "metadata": {},
   "outputs": [],
   "source": [
    "df.reset_index(inplace=True,drop=True)"
   ]
  },
  {
   "cell_type": "code",
   "execution_count": 14,
   "metadata": {},
   "outputs": [
    {
     "name": "stdout",
     "output_type": "stream",
     "text": [
      "69.19600409836072\n",
      "9.512799502374593\n",
      "72.0\n"
     ]
    }
   ],
   "source": [
    "#Aşırı verilerin kontrolü\n",
    "print(df[\"Life_expectancy\"].mean())\n",
    "print(df[\"Life_expectancy\"].std())\n",
    "print(np.median(df[\"Life_expectancy\"]))"
   ]
  },
  {
   "cell_type": "code",
   "execution_count": 15,
   "metadata": {},
   "outputs": [
    {
     "name": "stdout",
     "output_type": "stream",
     "text": [
      "164.7933743169399\n",
      "124.39278411202002\n",
      "144.0\n"
     ]
    }
   ],
   "source": [
    "print(df[\"Adult_Mortality\"].mean())\n",
    "print(df[\"Adult_Mortality\"].std())\n",
    "print(np.median(df[\"Adult_Mortality\"]))"
   ]
  },
  {
   "cell_type": "code",
   "execution_count": 16,
   "metadata": {},
   "outputs": [
    {
     "name": "stdout",
     "output_type": "stream",
     "text": [
      "30.40266393442623\n",
      "118.1155767176714\n",
      "3.0\n"
     ]
    }
   ],
   "source": [
    "print(df[\"infant_deaths\"].mean())\n",
    "print(df[\"infant_deaths\"].std())\n",
    "print(np.median(df[\"infant_deaths\"]))"
   ]
  },
  {
   "cell_type": "code",
   "execution_count": 17,
   "metadata": {},
   "outputs": [
    {
     "name": "stdout",
     "output_type": "stream",
     "text": [
      "2427.852800546448\n",
      "11485.971585336632\n",
      "17.0\n"
     ]
    }
   ],
   "source": [
    "print(df[\"Measles\"].mean())\n",
    "print(df[\"Measles\"].std())\n",
    "print(np.median(df[\"Measles\"]))"
   ]
  },
  {
   "cell_type": "code",
   "execution_count": 18,
   "metadata": {},
   "outputs": [
    {
     "name": "stdout",
     "output_type": "stream",
     "text": [
      "82.22950819672131\n",
      "23.693246400730782\n",
      "93.0\n"
     ]
    }
   ],
   "source": [
    "print(df[\"Diphtheria\"].mean())\n",
    "print(df[\"Diphtheria\"].std())\n",
    "print(np.median(df[\"Diphtheria\"]))"
   ]
  },
  {
   "cell_type": "code",
   "execution_count": 19,
   "metadata": {},
   "outputs": [
    {
     "name": "stdout",
     "output_type": "stream",
     "text": [
      "1.5218579234972678\n",
      "5.015677542848524\n",
      "0.0\n"
     ]
    }
   ],
   "source": [
    "print(df[\"HIV_AIDS\"].mean())\n",
    "print(df[\"HIV_AIDS\"].std())\n",
    "print(np.median(df[\"HIV_AIDS\"]))"
   ]
  },
  {
   "cell_type": "code",
   "execution_count": 20,
   "metadata": {},
   "outputs": [
    {
     "name": "stdout",
     "output_type": "stream",
     "text": [
      "0.0\n",
      "Empty DataFrame\n",
      "Columns: [Life_expectancy, Adult_Mortality, infant_deaths, Measles, Diphtheria, HIV_AIDS]\n",
      "Index: []\n"
     ]
    }
   ],
   "source": [
    "q_low  = df[\"Measles\"].quantile(0.025)\n",
    "print(q_low)\n",
    "\n",
    "print(df[df[\"Measles\"]<q_low])"
   ]
  },
  {
   "cell_type": "code",
   "execution_count": 21,
   "metadata": {},
   "outputs": [
    {
     "name": "stdout",
     "output_type": "stream",
     "text": [
      "22971.099999999908\n",
      "      Life_expectancy  Adult_Mortality  infant_deaths  Measles  Diphtheria  \\\n",
      "202              67.8              155            174    25934          93   \n",
      "406              56.9              283             44    54118          92   \n",
      "493              51.5               41             61    23934          63   \n",
      "541              48.0                4             42    24908          26   \n",
      "559              76.1               85            157    42361          99   \n",
      "560              75.8               86            171    52628          99   \n",
      "561              75.6               88            185    26883          99   \n",
      "564              75.0               92            231    38159          99   \n",
      "565              74.9               93            248    52461          99   \n",
      "566              74.5               97            266   131441          97   \n",
      "567              74.4               96            285   109023          93   \n",
      "568              74.2               98            307    99602          93   \n",
      "569              73.9               99            332   124219          87   \n",
      "570              73.5               11            360    70549          87   \n",
      "571              73.1               13            391    71879          86   \n",
      "572              72.7               16            422    58341          86   \n",
      "573              72.2               11            457    88962          86   \n",
      "574              71.7              115            490    71093          85   \n",
      "719              59.3              266            237    33711           8   \n",
      "720              58.8              272            238    88381          74   \n",
      "721              58.3              277            239    72029          75   \n",
      "722              57.9              278            239   133802          74   \n",
      "726              55.7              299            236    55577           7   \n",
      "727              55.0               36            235    80123          62   \n",
      "728              54.3              314            233   182485           6   \n",
      "729              53.5              323            232    44934          54   \n",
      "731              52.1              341            229    30466          38   \n",
      "1022             57.2               38             43    23068          88   \n",
      "1182             68.3              181            910    90387          87   \n",
      "1183             68.0              184            957    79563          85   \n",
      "...               ...              ...            ...      ...         ...   \n",
      "1236             74.0              148             32    30328          78   \n",
      "1323             81.8                7              3    33812          96   \n",
      "1560             64.0              267             38    35558          78   \n",
      "1561             59.9              268             40    62233          66   \n",
      "1564             57.9              283             44    35256          57   \n",
      "1570             52.9              462             35   118712          93   \n",
      "1771             51.0              424             85    28898          85   \n",
      "1882             52.9              279             56    63057          43   \n",
      "1883             52.1               28             56    54190          41   \n",
      "1884             51.4              282             57    31584          39   \n",
      "1885             56.0              283             57    61208          36   \n",
      "1889             53.2              367            498    52852          46   \n",
      "1897             49.2                4            556   110927          36   \n",
      "1898             48.5               47            563    31521          33   \n",
      "1899             48.1               41            567   141258          29   \n",
      "1900             47.7               49            571    42007          25   \n",
      "1901             47.4               48            574   168107          27   \n",
      "1902             47.1               45            576   212183          29   \n",
      "2017             68.4              214             54    58848          67   \n",
      "2093             76.7               17              3    23060          97   \n",
      "2094             76.0              116              4    32647          97   \n",
      "2254             57.9              251             26    24789          52   \n",
      "2685             78.0               14             41    30509          88   \n",
      "2716             51.0               53            109    29429          59   \n",
      "2717             48.8              523            112    49871          57   \n",
      "2718             47.7              539            115    48543          55   \n",
      "2719             46.6              554            116    42554          52   \n",
      "2729             67.7              267              5    42724          98   \n",
      "2909             45.5               69             41    25036          84   \n",
      "2911             43.8              614             44    30930          85   \n",
      "\n",
      "      HIV_AIDS  \n",
      "202          0  \n",
      "406          1  \n",
      "493          7  \n",
      "541          4  \n",
      "559          0  \n",
      "560          0  \n",
      "561          0  \n",
      "564          0  \n",
      "565          0  \n",
      "566          0  \n",
      "567          0  \n",
      "568          0  \n",
      "569          0  \n",
      "570          0  \n",
      "571          0  \n",
      "572          0  \n",
      "573          0  \n",
      "574          0  \n",
      "719          1  \n",
      "720          1  \n",
      "721          1  \n",
      "722          1  \n",
      "726          1  \n",
      "727          2  \n",
      "728          2  \n",
      "729          2  \n",
      "731          2  \n",
      "1022         3  \n",
      "1182         0  \n",
      "1183         0  \n",
      "...        ...  \n",
      "1236         0  \n",
      "1323         0  \n",
      "1560         0  \n",
      "1561         0  \n",
      "1564         0  \n",
      "1570        13  \n",
      "1771        15  \n",
      "1882         1  \n",
      "1883         1  \n",
      "1884         1  \n",
      "1885         1  \n",
      "1889         3  \n",
      "1897         5  \n",
      "1898         5  \n",
      "1899         5  \n",
      "1900         5  \n",
      "1901         5  \n",
      "1902         4  \n",
      "2017         0  \n",
      "2093         0  \n",
      "2094         0  \n",
      "2254         0  \n",
      "2685         0  \n",
      "2716         9  \n",
      "2717        10  \n",
      "2718        10  \n",
      "2719        11  \n",
      "2729         0  \n",
      "2909        18  \n",
      "2911        18  \n",
      "\n",
      "[74 rows x 6 columns]\n"
     ]
    }
   ],
   "source": [
    "q_hi  = df[\"Measles\"].quantile(0.975)\n",
    "print(q_hi)\n",
    "\n",
    "print(df[df[\"Measles\"]>q_hi])"
   ]
  },
  {
   "cell_type": "code",
   "execution_count": 22,
   "metadata": {},
   "outputs": [
    {
     "name": "stdout",
     "output_type": "stream",
     "text": [
      "(array([ 566,  567,  568,  569,  573,  720,  722,  728, 1182, 1570, 1897,\n",
      "       1899, 1901, 1902], dtype=int64),)\n"
     ]
    }
   ],
   "source": [
    "from scipy import stats\n",
    "z=np.abs(stats.zscore(df[\"Measles\"]))\n",
    "#print(z)\n",
    "print(np.where(z>7))"
   ]
  },
  {
   "cell_type": "code",
   "execution_count": 23,
   "metadata": {},
   "outputs": [
    {
     "data": {
      "text/html": [
       "<div>\n",
       "<style scoped>\n",
       "    .dataframe tbody tr th:only-of-type {\n",
       "        vertical-align: middle;\n",
       "    }\n",
       "\n",
       "    .dataframe tbody tr th {\n",
       "        vertical-align: top;\n",
       "    }\n",
       "\n",
       "    .dataframe thead th {\n",
       "        text-align: right;\n",
       "    }\n",
       "</style>\n",
       "<table border=\"1\" class=\"dataframe\">\n",
       "  <thead>\n",
       "    <tr style=\"text-align: right;\">\n",
       "      <th></th>\n",
       "      <th>Life_expectancy</th>\n",
       "      <th>Adult_Mortality</th>\n",
       "      <th>infant_deaths</th>\n",
       "      <th>Measles</th>\n",
       "      <th>Diphtheria</th>\n",
       "      <th>HIV_AIDS</th>\n",
       "    </tr>\n",
       "  </thead>\n",
       "  <tbody>\n",
       "    <tr>\n",
       "      <th>566</th>\n",
       "      <td>74.5</td>\n",
       "      <td>97</td>\n",
       "      <td>266</td>\n",
       "      <td>131441</td>\n",
       "      <td>97</td>\n",
       "      <td>0</td>\n",
       "    </tr>\n",
       "    <tr>\n",
       "      <th>567</th>\n",
       "      <td>74.4</td>\n",
       "      <td>96</td>\n",
       "      <td>285</td>\n",
       "      <td>109023</td>\n",
       "      <td>93</td>\n",
       "      <td>0</td>\n",
       "    </tr>\n",
       "    <tr>\n",
       "      <th>568</th>\n",
       "      <td>74.2</td>\n",
       "      <td>98</td>\n",
       "      <td>307</td>\n",
       "      <td>99602</td>\n",
       "      <td>93</td>\n",
       "      <td>0</td>\n",
       "    </tr>\n",
       "    <tr>\n",
       "      <th>569</th>\n",
       "      <td>73.9</td>\n",
       "      <td>99</td>\n",
       "      <td>332</td>\n",
       "      <td>124219</td>\n",
       "      <td>87</td>\n",
       "      <td>0</td>\n",
       "    </tr>\n",
       "    <tr>\n",
       "      <th>573</th>\n",
       "      <td>72.2</td>\n",
       "      <td>11</td>\n",
       "      <td>457</td>\n",
       "      <td>88962</td>\n",
       "      <td>86</td>\n",
       "      <td>0</td>\n",
       "    </tr>\n",
       "    <tr>\n",
       "      <th>720</th>\n",
       "      <td>58.8</td>\n",
       "      <td>272</td>\n",
       "      <td>238</td>\n",
       "      <td>88381</td>\n",
       "      <td>74</td>\n",
       "      <td>1</td>\n",
       "    </tr>\n",
       "    <tr>\n",
       "      <th>722</th>\n",
       "      <td>57.9</td>\n",
       "      <td>278</td>\n",
       "      <td>239</td>\n",
       "      <td>133802</td>\n",
       "      <td>74</td>\n",
       "      <td>1</td>\n",
       "    </tr>\n",
       "    <tr>\n",
       "      <th>728</th>\n",
       "      <td>54.3</td>\n",
       "      <td>314</td>\n",
       "      <td>233</td>\n",
       "      <td>182485</td>\n",
       "      <td>6</td>\n",
       "      <td>2</td>\n",
       "    </tr>\n",
       "    <tr>\n",
       "      <th>1182</th>\n",
       "      <td>68.3</td>\n",
       "      <td>181</td>\n",
       "      <td>910</td>\n",
       "      <td>90387</td>\n",
       "      <td>87</td>\n",
       "      <td>0</td>\n",
       "    </tr>\n",
       "    <tr>\n",
       "      <th>1570</th>\n",
       "      <td>52.9</td>\n",
       "      <td>462</td>\n",
       "      <td>35</td>\n",
       "      <td>118712</td>\n",
       "      <td>93</td>\n",
       "      <td>13</td>\n",
       "    </tr>\n",
       "    <tr>\n",
       "      <th>1897</th>\n",
       "      <td>49.2</td>\n",
       "      <td>4</td>\n",
       "      <td>556</td>\n",
       "      <td>110927</td>\n",
       "      <td>36</td>\n",
       "      <td>5</td>\n",
       "    </tr>\n",
       "    <tr>\n",
       "      <th>1899</th>\n",
       "      <td>48.1</td>\n",
       "      <td>41</td>\n",
       "      <td>567</td>\n",
       "      <td>141258</td>\n",
       "      <td>29</td>\n",
       "      <td>5</td>\n",
       "    </tr>\n",
       "    <tr>\n",
       "      <th>1901</th>\n",
       "      <td>47.4</td>\n",
       "      <td>48</td>\n",
       "      <td>574</td>\n",
       "      <td>168107</td>\n",
       "      <td>27</td>\n",
       "      <td>5</td>\n",
       "    </tr>\n",
       "    <tr>\n",
       "      <th>1902</th>\n",
       "      <td>47.1</td>\n",
       "      <td>45</td>\n",
       "      <td>576</td>\n",
       "      <td>212183</td>\n",
       "      <td>29</td>\n",
       "      <td>4</td>\n",
       "    </tr>\n",
       "  </tbody>\n",
       "</table>\n",
       "</div>"
      ],
      "text/plain": [
       "      Life_expectancy  Adult_Mortality  infant_deaths  Measles  Diphtheria  \\\n",
       "566              74.5               97            266   131441          97   \n",
       "567              74.4               96            285   109023          93   \n",
       "568              74.2               98            307    99602          93   \n",
       "569              73.9               99            332   124219          87   \n",
       "573              72.2               11            457    88962          86   \n",
       "720              58.8              272            238    88381          74   \n",
       "722              57.9              278            239   133802          74   \n",
       "728              54.3              314            233   182485           6   \n",
       "1182             68.3              181            910    90387          87   \n",
       "1570             52.9              462             35   118712          93   \n",
       "1897             49.2                4            556   110927          36   \n",
       "1899             48.1               41            567   141258          29   \n",
       "1901             47.4               48            574   168107          27   \n",
       "1902             47.1               45            576   212183          29   \n",
       "\n",
       "      HIV_AIDS  \n",
       "566          0  \n",
       "567          0  \n",
       "568          0  \n",
       "569          0  \n",
       "573          0  \n",
       "720          1  \n",
       "722          1  \n",
       "728          2  \n",
       "1182         0  \n",
       "1570        13  \n",
       "1897         5  \n",
       "1899         5  \n",
       "1901         5  \n",
       "1902         4  "
      ]
     },
     "execution_count": 23,
     "metadata": {},
     "output_type": "execute_result"
    }
   ],
   "source": [
    "df.iloc[[566,  567,  568,  569,  573,  720,  722,  728, 1182, 1570, 1897, 1899, 1901, 1902]]"
   ]
  },
  {
   "cell_type": "code",
   "execution_count": 24,
   "metadata": {},
   "outputs": [],
   "source": [
    "df.drop([566,  567,  569, 722,  728, 1570, 1897, 1899, 1901, 1902], axis=0, inplace=True)\n",
    "df.reset_index(inplace=True,drop=True)"
   ]
  },
  {
   "cell_type": "code",
   "execution_count": 25,
   "metadata": {},
   "outputs": [
    {
     "name": "stdout",
     "output_type": "stream",
     "text": [
      "1945.3721727210418\n",
      "7788.298975760563\n",
      "17.0\n"
     ]
    }
   ],
   "source": [
    "print(df[\"Measles\"].mean())\n",
    "print(df[\"Measles\"].std())\n",
    "print(np.median(df[\"Measles\"]))"
   ]
  },
  {
   "cell_type": "code",
   "execution_count": 26,
   "metadata": {},
   "outputs": [],
   "source": [
    "#Normalizasyon\n",
    "x_data=df.drop([\"Life_expectancy\"],axis=1)\n",
    "a=(x_data-np.min(x_data))/(np.max(x_data)-np.min(x_data))"
   ]
  },
  {
   "cell_type": "code",
   "execution_count": 27,
   "metadata": {},
   "outputs": [
    {
     "name": "stdout",
     "output_type": "stream",
     "text": [
      "   Life_expectancy  Adult_Mortality  infant_deaths   Measles  Diphtheria  \\\n",
      "0             65.0         0.362881       0.034444  0.011586    0.649485   \n",
      "1             59.9         0.373961       0.035556  0.004940    0.618557   \n",
      "2             59.9         0.369806       0.036667  0.004317    0.639175   \n",
      "3             59.5         0.375346       0.038333  0.027981    0.670103   \n",
      "4             59.2         0.379501       0.039444  0.030250    0.680412   \n",
      "\n",
      "   HIV_AIDS  \n",
      "0       0.0  \n",
      "1       0.0  \n",
      "2       0.0  \n",
      "3       0.0  \n",
      "4       0.0  \n"
     ]
    }
   ],
   "source": [
    "df1=pd.concat([df.loc[:,[\"Life_expectancy\"]],a],axis=1)\n",
    "print(df1.head())"
   ]
  },
  {
   "cell_type": "code",
   "execution_count": 28,
   "metadata": {},
   "outputs": [],
   "source": [
    "y=df.Life_expectancy .values\n",
    "x=df.drop([\"Life_expectancy\"],axis=1)"
   ]
  },
  {
   "cell_type": "code",
   "execution_count": 29,
   "metadata": {},
   "outputs": [
    {
     "name": "stdout",
     "output_type": "stream",
     "text": [
      "pol r2: 0.8362797159006125 mae: 2.8158439538955395\n",
      "mlr r2 0.626119344665004 mae: 4.298873742153392\n",
      "dt r2 0.9984143207285097 mae: 0.05065113091158328\n",
      "rf r2 0.9896478940939388 mae: 0.6296981823522612\n"
     ]
    }
   ],
   "source": [
    "#Verisetini bölmeden yapılan eiğitim\n",
    "from sklearn.preprocessing import PolynomialFeatures\n",
    "from sklearn.linear_model import LinearRegression\n",
    "from sklearn.tree import DecisionTreeRegressor\n",
    "from sklearn.ensemble import RandomForestRegressor\n",
    "from sklearn.metrics import r2_score,mean_absolute_error\n",
    "\n",
    "plr=PolynomialFeatures(degree=3)\n",
    "x_pol=plr.fit_transform(x)\n",
    "lr_pol=LinearRegression()\n",
    "lr_pol.fit(x_pol,y)\n",
    "pol_pred=lr_pol.predict(x_pol)\n",
    "\n",
    "mlr=LinearRegression()\n",
    "mlr.fit(x,y)\n",
    "mlr_pred=mlr.predict(x)\n",
    "\n",
    "dt=DecisionTreeRegressor(random_state=42)\n",
    "dt.fit(x,y)\n",
    "dt_pred=dt.predict(x)\n",
    "\n",
    "rf=RandomForestRegressor(n_estimators=100,random_state=42)\n",
    "rf.fit(x,y.ravel())\n",
    "rf_pred=rf.predict(x)\n",
    "\n",
    "#eğitim sonucu\n",
    "print(\"pol r2:\",r2_score(y,pol_pred),\"mae:\",mean_absolute_error(y,pol_pred))\n",
    "print(\"mlr\",\"r2\",r2_score(y,mlr_pred),\"mae:\",mean_absolute_error(y,mlr_pred))\n",
    "print(\"dt\",\"r2\",r2_score(y,dt_pred),\"mae:\",mean_absolute_error(y,dt_pred))\n",
    "print(\"rf\",\"r2\",r2_score(y,rf_pred),\"mae:\",mean_absolute_error(y,rf_pred))"
   ]
  },
  {
   "cell_type": "code",
   "execution_count": 30,
   "metadata": {},
   "outputs": [
    {
     "name": "stdout",
     "output_type": "stream",
     "text": [
      "pol r2: 0.7845020245251717 mae: 3.3948320216108456\n",
      "mlr r2 0.6472038084414751 mae: 4.206150173739172\n",
      "dt r2 0.8892754056033833 mae: 2.1032534246575345\n",
      "rf r2 0.9394104112739246 mae: 1.6200597534790186\n"
     ]
    }
   ],
   "source": [
    "#Train ve test şeklinde bölünerek yapılan eiğitim  Test boyutu=%20\n",
    "from sklearn.model_selection import train_test_split\n",
    "x_train, x_test,y_train,y_test=train_test_split(x,y,test_size=0.2,random_state=42)\n",
    "\n",
    "mlr=LinearRegression()\n",
    "mlr.fit(x_train,y_train)\n",
    "mlr_pred=mlr.predict(x_test)\n",
    "\n",
    "plr=PolynomialFeatures(degree=2)\n",
    "x_train_pol=plr.fit_transform(x_train)\n",
    "x_test_pol=plr.fit_transform(x_test)\n",
    "lr_pol=LinearRegression()\n",
    "lr_pol.fit(x_train_pol,y_train)\n",
    "pol_pred=lr_pol.predict(x_test_pol)\n",
    "\n",
    "\n",
    "dt=DecisionTreeRegressor(random_state=42)\n",
    "dt.fit(x_train,y_train)\n",
    "dt_pred=dt.predict(x_test)\n",
    "\n",
    "rf=RandomForestRegressor(n_estimators=150,random_state=42)\n",
    "rf.fit(x_train,y_train.ravel())\n",
    "rf_pred=rf.predict(x_test)\n",
    "\n",
    "#eğitim sonucu\n",
    "print(\"pol r2:\",r2_score(y_test,pol_pred),\"mae:\",mean_absolute_error(y_test,pol_pred))\n",
    "print(\"mlr\",\"r2\",r2_score(y_test,mlr_pred),\"mae:\",mean_absolute_error(y_test,mlr_pred))\n",
    "print(\"dt\",\"r2\",r2_score(y_test,dt_pred),\"mae:\",mean_absolute_error(y_test,dt_pred))\n",
    "print(\"rf\",\"r2\",r2_score(y_test,rf_pred),\"mae:\",mean_absolute_error(y_test,rf_pred))"
   ]
  },
  {
   "cell_type": "code",
   "execution_count": 31,
   "metadata": {},
   "outputs": [
    {
     "name": "stdout",
     "output_type": "stream",
     "text": [
      "rf r2 0.9397135357933223 mae: 1.6206515839041091\n"
     ]
    }
   ],
   "source": [
    "#Random forest için tree(tahminci) sayısını 100 yaptığımızda\n",
    "from sklearn.model_selection import train_test_split\n",
    "x_train, x_test,y_train,y_test=train_test_split(x,y,test_size=0.2,random_state=42)\n",
    "\n",
    "rf=RandomForestRegressor(n_estimators=100,random_state=42)\n",
    "rf.fit(x_train,y_train.ravel())\n",
    "rf_pred=rf.predict(x_test)\n",
    "\n",
    "#eğitim sonucu\n",
    "\n",
    "print(\"rf\",\"r2\",r2_score(y_test,rf_pred),\"mae:\",mean_absolute_error(y_test,rf_pred))"
   ]
  },
  {
   "cell_type": "code",
   "execution_count": 32,
   "metadata": {},
   "outputs": [
    {
     "name": "stdout",
     "output_type": "stream",
     "text": [
      "rf r2 0.9390817767916156 mae: 1.618338351068171\n"
     ]
    }
   ],
   "source": [
    "#Random forest için tree(tahminci) sayısını 200 yaptığımızda\n",
    "from sklearn.model_selection import train_test_split\n",
    "x_train, x_test,y_train,y_test=train_test_split(x,y,test_size=0.2,random_state=42)\n",
    "\n",
    "rf=RandomForestRegressor(n_estimators=200,random_state=42)\n",
    "rf.fit(x_train,y_train.ravel())\n",
    "rf_pred=rf.predict(x_test)\n",
    "\n",
    "#eğitim sonucu\n",
    "\n",
    "print(\"rf\",\"r2\",r2_score(y_test,rf_pred),\"mae:\",mean_absolute_error(y_test,rf_pred))"
   ]
  },
  {
   "cell_type": "code",
   "execution_count": 33,
   "metadata": {},
   "outputs": [
    {
     "name": "stdout",
     "output_type": "stream",
     "text": [
      "pol r2: 0.7707804278758311 mae: 3.4666521827935437\n",
      "mlr r2 0.6153256696774732 mae: 4.373541633259354\n",
      "dt r2 0.8969146834513297 mae: 2.012328767123287\n",
      "rf r2 0.9370019532263588 mae: 1.6032686335797686\n"
     ]
    }
   ],
   "source": [
    "#Train ve test şeklinde bölünerek yapılan eiğitim  Test boyutu=%10\n",
    "from sklearn.model_selection import train_test_split\n",
    "x_train, x_test,y_train,y_test=train_test_split(x,y,test_size=0.1,random_state=42)\n",
    "\n",
    "mlr=LinearRegression()\n",
    "mlr.fit(x_train,y_train)\n",
    "mlr_pred=mlr.predict(x_test)\n",
    "\n",
    "plr=PolynomialFeatures(degree=2)\n",
    "x_train_pol=plr.fit_transform(x_train)\n",
    "x_test_pol=plr.fit_transform(x_test)\n",
    "lr_pol=LinearRegression()\n",
    "lr_pol.fit(x_train_pol,y_train)\n",
    "pol_pred=lr_pol.predict(x_test_pol)\n",
    "\n",
    "\n",
    "dt=DecisionTreeRegressor(random_state=42)\n",
    "dt.fit(x_train,y_train)\n",
    "dt_pred=dt.predict(x_test)\n",
    "\n",
    "rf=RandomForestRegressor(n_estimators=150,random_state=42)\n",
    "rf.fit(x_train,y_train.ravel())\n",
    "rf_pred=rf.predict(x_test)\n",
    "\n",
    "#eğitim sonucu\n",
    "print(\"pol r2:\",r2_score(y_test,pol_pred),\"mae:\",mean_absolute_error(y_test,pol_pred))\n",
    "print(\"mlr\",\"r2\",r2_score(y_test,mlr_pred),\"mae:\",mean_absolute_error(y_test,mlr_pred))\n",
    "print(\"dt\",\"r2\",r2_score(y_test,dt_pred),\"mae:\",mean_absolute_error(y_test,dt_pred))\n",
    "print(\"rf\",\"r2\",r2_score(y_test,rf_pred),\"mae:\",mean_absolute_error(y_test,rf_pred))"
   ]
  },
  {
   "cell_type": "code",
   "execution_count": 34,
   "metadata": {},
   "outputs": [
    {
     "name": "stdout",
     "output_type": "stream",
     "text": [
      "pol r2: 0.8307622944780141 mae: 2.9062397908125623\n"
     ]
    }
   ],
   "source": [
    "#polinom derecesini 3 yaptığımızda\n",
    "from sklearn.model_selection import train_test_split\n",
    "x_train, x_test,y_train,y_test=train_test_split(x,y,test_size=0.1,random_state=42)\n",
    "plr=PolynomialFeatures(degree=3)\n",
    "x_train_pol=plr.fit_transform(x_train)\n",
    "x_test_pol=plr.fit_transform(x_test)\n",
    "lr_pol=LinearRegression()\n",
    "lr_pol.fit(x_train_pol,y_train)\n",
    "pol_pred=lr_pol.predict(x_test_pol)\n",
    "\n",
    "#eğitim sonucu\n",
    "print(\"pol r2:\",r2_score(y_test,pol_pred),\"mae:\",mean_absolute_error(y_test,pol_pred))"
   ]
  },
  {
   "cell_type": "code",
   "execution_count": 35,
   "metadata": {},
   "outputs": [
    {
     "name": "stdout",
     "output_type": "stream",
     "text": [
      "pol r2: 0.744291225729262 mae: 3.1825217090747264\n"
     ]
    }
   ],
   "source": [
    "#polinom derecesini 4 yaptığımızda\n",
    "from sklearn.model_selection import train_test_split\n",
    "x_train, x_test,y_train,y_test=train_test_split(x,y,test_size=0.1,random_state=42)\n",
    "plr=PolynomialFeatures(degree=4)\n",
    "x_train_pol=plr.fit_transform(x_train)\n",
    "x_test_pol=plr.fit_transform(x_test)\n",
    "lr_pol=LinearRegression()\n",
    "lr_pol.fit(x_train_pol,y_train)\n",
    "pol_pred=lr_pol.predict(x_test_pol)\n",
    "\n",
    "#eğitim sonucu\n",
    "print(\"pol r2:\",r2_score(y_test,pol_pred),\"mae:\",mean_absolute_error(y_test,pol_pred))"
   ]
  },
  {
   "cell_type": "code",
   "execution_count": 36,
   "metadata": {},
   "outputs": [
    {
     "name": "stdout",
     "output_type": "stream",
     "text": [
      "pol r2: -15.21433704900976 mae: 8.665970641372596\n"
     ]
    }
   ],
   "source": [
    "#polinom derecesini 5 yaptığımızda\n",
    "from sklearn.model_selection import train_test_split\n",
    "x_train, x_test,y_train,y_test=train_test_split(x,y,test_size=0.1,random_state=42)\n",
    "plr=PolynomialFeatures(degree=5)\n",
    "x_train_pol=plr.fit_transform(x_train)\n",
    "x_test_pol=plr.fit_transform(x_test)\n",
    "lr_pol=LinearRegression()\n",
    "lr_pol.fit(x_train_pol,y_train)\n",
    "pol_pred=lr_pol.predict(x_test_pol)\n",
    "\n",
    "#eğitim sonucu\n",
    "print(\"pol r2:\",r2_score(y_test,pol_pred),\"mae:\",mean_absolute_error(y_test,pol_pred))"
   ]
  },
  {
   "cell_type": "code",
   "execution_count": 37,
   "metadata": {},
   "outputs": [
    {
     "name": "stdout",
     "output_type": "stream",
     "text": [
      "pol r2: 0.8307339753733365 mae: 2.9049727021985103\n",
      "mlr r2 0.6153256696774715 mae: 4.373541633259371\n",
      "dt r2 0.8991025478620245 mae: 1.9808219178082183\n",
      "rf r2 0.9374061216099066 mae: 1.6051142816373096\n"
     ]
    }
   ],
   "source": [
    "#Normalizasyonu yapılan verilerle eğitim\n",
    "from sklearn.model_selection import train_test_split\n",
    "x_train, x_test,y_train,y_test=train_test_split(a,y,test_size=0.1,random_state=42)\n",
    "\n",
    "mlr=LinearRegression()\n",
    "mlr.fit(x_train,y_train)\n",
    "mlr_pred=mlr.predict(x_test)\n",
    "\n",
    "plr=PolynomialFeatures(degree=3)\n",
    "x_train_pol=plr.fit_transform(x_train)\n",
    "x_test_pol=plr.fit_transform(x_test)\n",
    "lr_pol=LinearRegression()\n",
    "lr_pol.fit(x_train_pol,y_train)\n",
    "pol_pred=lr_pol.predict(x_test_pol)\n",
    "\n",
    "\n",
    "dt=DecisionTreeRegressor(random_state=42)\n",
    "dt.fit(x_train,y_train)\n",
    "dt_pred=dt.predict(x_test)\n",
    "\n",
    "rf=RandomForestRegressor(n_estimators=100,random_state=42)\n",
    "rf.fit(x_train,y_train.ravel())\n",
    "rf_pred=rf.predict(x_test)\n",
    "\n",
    "#eğitim sonucu\n",
    "print(\"pol r2:\",r2_score(y_test,pol_pred),\"mae:\",mean_absolute_error(y_test,pol_pred))\n",
    "print(\"mlr\",\"r2\",r2_score(y_test,mlr_pred),\"mae:\",mean_absolute_error(y_test,mlr_pred))\n",
    "print(\"dt\",\"r2\",r2_score(y_test,dt_pred),\"mae:\",mean_absolute_error(y_test,dt_pred))\n",
    "print(\"rf\",\"r2\",r2_score(y_test,rf_pred),\"mae:\",mean_absolute_error(y_test,rf_pred))"
   ]
  },
  {
   "cell_type": "code",
   "execution_count": 38,
   "metadata": {},
   "outputs": [
    {
     "name": "stdout",
     "output_type": "stream",
     "text": [
      "67.86616836749793 [-3.72491501e-02 -5.46629050e-03 -6.54023562e-05  1.04619413e-01\n",
      " -5.06823375e-01]\n",
      "64\n"
     ]
    }
   ],
   "source": [
    "from sklearn.model_selection import train_test_split\n",
    "x_train, x_test,y_train,y_test=train_test_split(x,y,test_size=0.2,random_state=42)\n",
    "mlr=LinearRegression()\n",
    "mlr.fit(x_train,y_train)\n",
    "\n",
    "print(mlr.intercept_,mlr.coef_)\n",
    "y_pred_mlr=mlr.predict([[263,62,1154,65,0]])\n",
    "print(int(y_pred_mlr))"
   ]
  },
  {
   "cell_type": "code",
   "execution_count": 39,
   "metadata": {},
   "outputs": [
    {
     "name": "stdout",
     "output_type": "stream",
     "text": [
      "71.45813575234922 [ 1.85680974e-05  1.07364656e-01 -1.51056108e-01 -6.65995231e-04\n",
      " -4.28777157e-01 -3.11063855e+00 -6.27012871e-04  4.87520098e-04\n",
      "  1.73023276e-06  2.82003196e-04  1.04594953e-02  1.41537619e-04\n",
      "  1.63296099e-07  1.27529428e-03  1.41522951e-02  7.40500444e-09\n",
      "  9.02138561e-06 -9.49661672e-06  6.58618143e-03  5.35558671e-03\n",
      "  9.13267377e-02  6.34071253e-07 -8.29915847e-07  1.01338826e-09\n",
      "  3.11308707e-07 -9.65509442e-06 -1.92348386e-07 -6.72745248e-10\n",
      "  1.73005120e-07  1.73964384e-06 -9.05839292e-12 -2.37721391e-08\n",
      " -3.12002586e-08 -6.69119783e-06  1.73315003e-05 -1.03640713e-04\n",
      " -1.53648624e-08 -5.06788833e-10 -6.56477447e-07 -9.58229357e-06\n",
      "  6.50724613e-12 -1.70703555e-09  5.33219185e-08 -6.66748939e-06\n",
      " -1.86416044e-05 -5.84051723e-04 -5.44425616e-14 -1.47835078e-11\n",
      " -1.80965687e-10 -1.78931861e-08 -3.22181527e-07  2.09034242e-06\n",
      " -1.75709837e-05 -4.90683798e-05 -3.60878179e-04 -2.95606516e-04]\n",
      "60\n"
     ]
    }
   ],
   "source": [
    "from sklearn.model_selection import train_test_split\n",
    "x_train, x_test,y_train,y_test=train_test_split(x,y,test_size=0.2,random_state=42)\n",
    "from sklearn.preprocessing import PolynomialFeatures\n",
    "plr=PolynomialFeatures(degree=3)\n",
    "\n",
    "x_train_pol=plr.fit_transform(x_train)\n",
    "x_test_pol=plr.fit_transform(x_test)\n",
    "lr_pol=LinearRegression()\n",
    "lr_pol.fit(x_train_pol,y_train)\n",
    "\n",
    "print(lr_pol.intercept_,lr_pol.coef_)\n",
    "\n",
    "xnew=plr.fit_transform([[263,62,1154,65,0]])\n",
    "y_pred_pol=lr_pol.predict(xnew)\n",
    "\n",
    "print(int(y_pred_pol))"
   ]
  },
  {
   "cell_type": "code",
   "execution_count": null,
   "metadata": {},
   "outputs": [],
   "source": []
  }
 ],
 "metadata": {
  "kernelspec": {
   "display_name": "Python 3",
   "language": "python",
   "name": "python3"
  },
  "language_info": {
   "codemirror_mode": {
    "name": "ipython",
    "version": 3
   },
   "file_extension": ".py",
   "mimetype": "text/x-python",
   "name": "python",
   "nbconvert_exporter": "python",
   "pygments_lexer": "ipython3",
   "version": "3.7.3"
  }
 },
 "nbformat": 4,
 "nbformat_minor": 2
}
