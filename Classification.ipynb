{
 "cells": [
  {
   "cell_type": "code",
   "execution_count": 1,
   "metadata": {},
   "outputs": [
    {
     "name": "stdout",
     "output_type": "stream",
     "text": [
      "    id   age     bp     sg   al   su     rbc        pc         pcc  \\\n",
      "0  157  62.0   70.0  1.025  3.0  0.0  normal  abnormal  notpresent   \n",
      "1  109  54.0   70.0    NaN  NaN  NaN     NaN       NaN  notpresent   \n",
      "2   17  47.0   80.0    NaN  NaN  NaN     NaN       NaN  notpresent   \n",
      "3  347  43.0   60.0  1.025  0.0  0.0  normal    normal  notpresent   \n",
      "4   24  42.0  100.0  1.015  4.0  0.0  normal  abnormal  notpresent   \n",
      "\n",
      "           ba  ...   pcv    wc   rc  htn   dm  cad  appet  pe ane  \\\n",
      "0  notpresent  ...  39.0  7900  3.9  yes  yes   no   good  no  no   \n",
      "1  notpresent  ...   NaN   NaN  NaN   no  yes   no   good  no  no   \n",
      "2  notpresent  ...   NaN   NaN  NaN  yes   no   no   poor  no  no   \n",
      "3  notpresent  ...  43.0  7200  5.5   no   no   no   good  no  no   \n",
      "4     present  ...  39.0  8300  4.6  yes   no   no   poor  no  no   \n",
      "\n",
      "  classification  \n",
      "0            ckd  \n",
      "1            ckd  \n",
      "2            ckd  \n",
      "3         notckd  \n",
      "4            ckd  \n",
      "\n",
      "[5 rows x 26 columns]\n"
     ]
    }
   ],
   "source": [
    "import pandas as pd\n",
    "import numpy as np\n",
    "\n",
    "df=pd.read_csv(\"kdtrain.csv\",sep=',')\n",
    "print(df.head())"
   ]
  },
  {
   "cell_type": "code",
   "execution_count": 2,
   "metadata": {},
   "outputs": [
    {
     "name": "stdout",
     "output_type": "stream",
     "text": [
      "               id         age          bp          sg          al          su  \\\n",
      "count  280.000000  275.000000  271.000000  244.000000  245.000000  242.000000   \n",
      "mean   202.928571   51.454545   76.051661    1.017439    1.024490    0.438017   \n",
      "std    111.988168   17.476176   14.256289    0.005746    1.375805    1.073193   \n",
      "min      1.000000    2.000000   50.000000    1.005000    0.000000    0.000000   \n",
      "25%    110.500000   42.000000   70.000000    1.010000    0.000000    0.000000   \n",
      "50%    202.000000   55.000000   70.000000    1.020000    0.000000    0.000000   \n",
      "75%    302.250000   65.000000   80.000000    1.020000    2.000000    0.000000   \n",
      "max    399.000000   90.000000  180.000000    1.025000    5.000000    5.000000   \n",
      "\n",
      "              bgr          bu          sc         sod         pot        hemo  \\\n",
      "count  247.000000  266.000000  268.000000  213.000000  212.000000  241.000000   \n",
      "mean   150.186235   56.983835    3.006157  137.255869    4.754245   12.531535   \n",
      "std     77.357144   51.456635    5.850085   11.677123    3.826341    2.882635   \n",
      "min     70.000000   10.000000    0.400000    4.500000    2.700000    3.100000   \n",
      "25%    100.000000   27.250000    0.900000  135.000000    3.900000   10.500000   \n",
      "50%    124.000000   41.000000    1.300000  138.000000    4.400000   12.700000   \n",
      "75%    171.500000   64.750000    2.800000  141.000000    4.900000   14.900000   \n",
      "max    490.000000  391.000000   76.000000  163.000000   47.000000   17.800000   \n",
      "\n",
      "              pcv  \n",
      "count  229.000000  \n",
      "mean    39.165939  \n",
      "std      8.774388  \n",
      "min      9.000000  \n",
      "25%     33.000000  \n",
      "50%     41.000000  \n",
      "75%     46.000000  \n",
      "max     54.000000  \n"
     ]
    }
   ],
   "source": [
    "print(df.describe()) "
   ]
  },
  {
   "cell_type": "code",
   "execution_count": 3,
   "metadata": {},
   "outputs": [
    {
     "name": "stdout",
     "output_type": "stream",
     "text": [
      "<class 'pandas.core.frame.DataFrame'>\n",
      "RangeIndex: 280 entries, 0 to 279\n",
      "Data columns (total 26 columns):\n",
      "id                280 non-null int64\n",
      "age               275 non-null float64\n",
      "bp                271 non-null float64\n",
      "sg                244 non-null float64\n",
      "al                245 non-null float64\n",
      "su                242 non-null float64\n",
      "rbc               173 non-null object\n",
      "pc                230 non-null object\n",
      "pcc               276 non-null object\n",
      "ba                276 non-null object\n",
      "bgr               247 non-null float64\n",
      "bu                266 non-null float64\n",
      "sc                268 non-null float64\n",
      "sod               213 non-null float64\n",
      "pot               212 non-null float64\n",
      "hemo              241 non-null float64\n",
      "pcv               229 non-null float64\n",
      "wc                203 non-null object\n",
      "rc                187 non-null object\n",
      "htn               279 non-null object\n",
      "dm                279 non-null object\n",
      "cad               279 non-null object\n",
      "appet             280 non-null object\n",
      "pe                280 non-null object\n",
      "ane               280 non-null object\n",
      "classification    280 non-null object\n",
      "dtypes: float64(12), int64(1), object(13)\n",
      "memory usage: 57.0+ KB\n"
     ]
    }
   ],
   "source": [
    "df.info()"
   ]
  },
  {
   "cell_type": "code",
   "execution_count": 4,
   "metadata": {},
   "outputs": [
    {
     "name": "stdout",
     "output_type": "stream",
     "text": [
      "     bgr    bu   sc    sod  pot  hemo   pcv classification\n",
      "0  122.0  42.0  1.7  136.0  4.7  12.6  39.0            ckd\n",
      "1  233.0  50.1  1.9    NaN  NaN  11.7   NaN            ckd\n",
      "2  114.0  87.0  5.2  139.0  3.7  12.1   NaN            ckd\n",
      "3  108.0  25.0  1.0  144.0  5.0  17.8  43.0         notckd\n",
      "4    NaN  50.0  1.4  129.0  4.0  11.1  39.0            ckd\n"
     ]
    }
   ],
   "source": [
    "df=df.loc[:,[\"bgr\",\"bu\",\"sc\",\"sod\",\"pot\",\"hemo\",\"pcv\",\"classification\"]]\n",
    "print(df.head())"
   ]
  },
  {
   "cell_type": "code",
   "execution_count": 5,
   "metadata": {},
   "outputs": [
    {
     "name": "stdout",
     "output_type": "stream",
     "text": [
      "bgr               33\n",
      "bu                14\n",
      "sc                12\n",
      "sod               67\n",
      "pot               68\n",
      "hemo              39\n",
      "pcv               51\n",
      "classification     0\n",
      "dtype: int64\n"
     ]
    }
   ],
   "source": [
    "print(df.isnull().sum())"
   ]
  },
  {
   "cell_type": "code",
   "execution_count": 6,
   "metadata": {},
   "outputs": [],
   "source": [
    "#replacing\n",
    "df[\"bgr\"]=df[\"bgr\"].interpolate()\n",
    "df[\"bu\"]=df[\"bu\"].interpolate()\n",
    "df[\"sc\"]=df[\"sc\"].interpolate()\n",
    "df[\"sod\"]=df[\"sod\"].interpolate()\n",
    "df[\"pot\"]=df[\"pot\"].interpolate()\n",
    "df[\"hemo\"]=df[\"hemo\"].interpolate()\n",
    "df[\"pcv\"]=df[\"pcv\"].interpolate()"
   ]
  },
  {
   "cell_type": "code",
   "execution_count": 7,
   "metadata": {},
   "outputs": [
    {
     "name": "stdout",
     "output_type": "stream",
     "text": [
      "bgr               0\n",
      "bu                0\n",
      "sc                0\n",
      "sod               0\n",
      "pot               0\n",
      "hemo              0\n",
      "pcv               0\n",
      "classification    0\n",
      "dtype: int64\n"
     ]
    }
   ],
   "source": [
    "print(df.isnull().sum())"
   ]
  },
  {
   "cell_type": "code",
   "execution_count": 8,
   "metadata": {},
   "outputs": [
    {
     "data": {
      "text/plain": [
       "bgr               float64\n",
       "bu                float64\n",
       "sc                float64\n",
       "sod               float64\n",
       "pot               float64\n",
       "hemo              float64\n",
       "pcv               float64\n",
       "classification     object\n",
       "dtype: object"
      ]
     },
     "execution_count": 8,
     "metadata": {},
     "output_type": "execute_result"
    }
   ],
   "source": [
    "df.dtypes"
   ]
  },
  {
   "cell_type": "code",
   "execution_count": 9,
   "metadata": {},
   "outputs": [
    {
     "name": "stdout",
     "output_type": "stream",
     "text": [
      "bgr                 int32\n",
      "bu                  int32\n",
      "sc                float64\n",
      "sod                 int32\n",
      "pot               float64\n",
      "hemo              float64\n",
      "pcv                 int32\n",
      "classification     object\n",
      "dtype: object\n"
     ]
    }
   ],
   "source": [
    "donusum = {\"bgr\": int, \n",
    "           \"bu\": int,\n",
    "           \"sod\":int,\n",
    "           \"pcv\":int} \n",
    "df=df.astype(donusum)\n",
    "print(df.dtypes)"
   ]
  },
  {
   "cell_type": "code",
   "execution_count": 10,
   "metadata": {},
   "outputs": [
    {
     "name": "stdout",
     "output_type": "stream",
     "text": [
      "Empty DataFrame\n",
      "Columns: [bgr, bu, sc, sod, pot, hemo, pcv, classification]\n",
      "Index: []\n"
     ]
    }
   ],
   "source": [
    "print(df[df.duplicated()])"
   ]
  },
  {
   "cell_type": "code",
   "execution_count": 11,
   "metadata": {},
   "outputs": [
    {
     "name": "stdout",
     "output_type": "stream",
     "text": [
      "150.475\n",
      "74.41518288927637\n",
      "124.5\n"
     ]
    }
   ],
   "source": [
    "print(df[\"bgr\"].mean())\n",
    "print(df[\"bgr\"].std())\n",
    "print(np.median(df[\"bgr\"]))"
   ]
  },
  {
   "cell_type": "code",
   "execution_count": 12,
   "metadata": {},
   "outputs": [
    {
     "name": "stdout",
     "output_type": "stream",
     "text": [
      "57.767857142857146\n",
      "51.85981623757039\n",
      "41.5\n"
     ]
    }
   ],
   "source": [
    "print(df[\"bu\"].mean())\n",
    "print(df[\"bu\"].std())\n",
    "print(np.median(df[\"bu\"]))"
   ]
  },
  {
   "cell_type": "code",
   "execution_count": 13,
   "metadata": {},
   "outputs": [
    {
     "name": "stdout",
     "output_type": "stream",
     "text": [
      "3.065535714285717\n",
      "5.821054640813501\n",
      "1.35\n"
     ]
    }
   ],
   "source": [
    "print(df[\"sc\"].mean())\n",
    "print(df[\"sc\"].std())\n",
    "print(np.median(df[\"sc\"]))"
   ]
  },
  {
   "cell_type": "code",
   "execution_count": 14,
   "metadata": {},
   "outputs": [
    {
     "name": "stdout",
     "output_type": "stream",
     "text": [
      "137.18214285714285\n",
      "10.741623512227722\n",
      "137.5\n"
     ]
    }
   ],
   "source": [
    "print(df[\"sod\"].mean())\n",
    "print(df[\"sod\"].std())\n",
    "print(np.median(df[\"sod\"]))"
   ]
  },
  {
   "cell_type": "code",
   "execution_count": 15,
   "metadata": {},
   "outputs": [
    {
     "name": "stdout",
     "output_type": "stream",
     "text": [
      "4.965357142857145\n",
      "4.08347488007521\n",
      "4.477500000000001\n"
     ]
    }
   ],
   "source": [
    "print(df[\"pot\"].mean())\n",
    "print(df[\"pot\"].std())\n",
    "print(np.median(df[\"pot\"]))"
   ]
  },
  {
   "cell_type": "code",
   "execution_count": 16,
   "metadata": {},
   "outputs": [
    {
     "name": "stdout",
     "output_type": "stream",
     "text": [
      "12.531428571428574\n",
      "2.7775044924451002\n",
      "12.75\n"
     ]
    }
   ],
   "source": [
    "print(df[\"hemo\"].mean())\n",
    "print(df[\"hemo\"].std())\n",
    "print(np.median(df[\"hemo\"]))"
   ]
  },
  {
   "cell_type": "code",
   "execution_count": 17,
   "metadata": {},
   "outputs": [
    {
     "name": "stdout",
     "output_type": "stream",
     "text": [
      "39.135714285714286\n",
      "8.345763387075912\n",
      "40.0\n"
     ]
    }
   ],
   "source": [
    "print(df[\"pcv\"].mean())\n",
    "print(df[\"pcv\"].std())\n",
    "print(np.median(df[\"pcv\"]))"
   ]
  },
  {
   "cell_type": "code",
   "execution_count": 18,
   "metadata": {},
   "outputs": [],
   "source": [
    "notckd=df[df.classification==\"notckd\"]\n",
    "ckd=df[df.classification==\"ckd\"]"
   ]
  },
  {
   "cell_type": "code",
   "execution_count": 20,
   "metadata": {},
   "outputs": [
    {
     "data": {
      "image/png": "[encoded data removed]",
      "text/plain": [
       "<Figure size 432x288 with 1 Axes>"
      ]
     },
     "metadata": {
      "needs_background": "light"
     },
     "output_type": "display_data"
    }
   ],
   "source": [
    "import matplotlib.pyplot as plt\n",
    "plt.scatter(ckd.bgr,ckd.hemo,color=\"red\",label=\"Kronik böbrek hastası\")\n",
    "plt.scatter(notckd.bgr,notckd.hemo,color=\"green\",label=\"Kronik böbrek hastası değil\")\n",
    "plt.xlabel(\"bgr\")\n",
    "plt.ylabel(\"hemo\")\n",
    "plt.legend()\n",
    "plt.show()"
   ]
  },
  {
   "cell_type": "code",
   "execution_count": 21,
   "metadata": {},
   "outputs": [
    {
     "name": "stdout",
     "output_type": "stream",
     "text": [
      "   bgr  bu   sc  sod  pot  hemo  pcv  classification\n",
      "0  122  42  1.7  136  4.7  12.6   39               1\n",
      "1  233  50  1.9  137  4.2  11.7   40               1\n",
      "2  114  87  5.2  139  3.7  12.1   41               1\n",
      "3  108  25  1.0  144  5.0  17.8   43               0\n",
      "4  184  50  1.4  129  4.0  11.1   39               1\n"
     ]
    }
   ],
   "source": [
    "df.classification=[1 if i ==\"ckd\" else 0 for i in df.classification]\n",
    "print(df.head())"
   ]
  },
  {
   "cell_type": "code",
   "execution_count": 22,
   "metadata": {},
   "outputs": [],
   "source": [
    "x_data=df.drop([\"classification\"],axis=1)"
   ]
  },
  {
   "cell_type": "code",
   "execution_count": 23,
   "metadata": {},
   "outputs": [],
   "source": [
    "x=(x_data-np.min(x_data))/(np.max(x_data)-np.min(x_data))"
   ]
  },
  {
   "cell_type": "code",
   "execution_count": 24,
   "metadata": {},
   "outputs": [
    {
     "name": "stdout",
     "output_type": "stream",
     "text": [
      "          bgr        bu        sc       sod       pot      hemo       pcv\n",
      "0    0.123810  0.083990  0.017196  0.830189  0.045147  0.646259  0.666667\n",
      "1    0.388095  0.104987  0.019841  0.836478  0.033860  0.585034  0.688889\n",
      "2    0.104762  0.202100  0.063492  0.849057  0.022573  0.612245  0.711111\n",
      "3    0.090476  0.039370  0.007937  0.880503  0.051919  1.000000  0.755556\n",
      "4    0.271429  0.104987  0.013228  0.786164  0.029345  0.544218  0.666667\n",
      "5    0.454762  0.125984  0.023810  0.685535  0.006772  0.761905  0.666667\n",
      "6    0.030952  0.102362  0.006614  0.849057  0.013544  0.979592  0.688889\n",
      "7    0.097619  0.060367  0.007937  0.918239  0.051919  0.829932  0.777778\n",
      "8    0.164286  0.023622  0.006614  0.867925  0.066591  0.653061  0.733333\n",
      "9    0.078571  0.181102  0.064815  0.823899  0.081264  0.217687  0.222222\n",
      "10   0.147619  0.020997  0.009259  0.899371  0.045147  0.721088  0.800000\n",
      "11   0.107143  0.818898  0.166667  0.767296  0.047404  0.333333  0.333333\n",
      "12   0.066667  0.026247  0.001323  0.855346  0.018059  0.734694  0.777778\n",
      "13   0.345238  0.322835  0.027778  0.811321  0.014673  0.687075  0.711111\n",
      "14   0.166667  0.044619  0.010582  0.773585  0.011287  0.605442  0.622222\n",
      "15   0.285714  0.102362  0.010582  0.729560  0.007901  0.523810  0.555556\n",
      "16   0.407143  0.475066  0.153439  0.691824  0.004515  0.442177  0.488889\n",
      "17   0.064286  0.078740  0.002646  0.918239  0.040632  0.755102  0.866667\n",
      "18   0.052381  0.023622  0.005291  0.918239  0.029345  0.591837  0.555556\n",
      "19   0.159524  0.018373  0.001323  0.918239  0.018059  0.714286  0.777778\n",
      "20   0.052381  0.049869  0.018519  0.811321  0.027088  0.489796  0.511111\n",
      "21   0.090476  0.152231  0.031746  0.805031  0.031603  0.544218  0.533333\n",
      "22   0.128571  0.089239  0.007937  0.855346  0.049661  0.802721  0.711111\n",
      "23   0.126190  0.078740  0.018519  0.798742  0.030474  0.544218  0.600000\n",
      "24   0.140476  0.388451  0.150794  0.742138  0.011287  0.340136  0.333333\n",
      "25   0.071429  0.070866  0.010582  0.867925  0.029345  0.938776  0.955556\n",
      "26   0.302381  0.225722  0.079365  0.823899  0.045147  0.238095  0.733333\n",
      "27   0.533333  0.160105  0.052910  0.779874  0.060948  0.469388  0.511111\n",
      "28   0.300000  0.118110  0.027116  0.729560  0.050414  0.734694  0.644444\n",
      "29   0.069048  0.078740  0.001323  0.679245  0.039880  1.000000  0.777778\n",
      "..        ...       ...       ...       ...       ...       ...       ...\n",
      "250  0.085714  0.044619  0.003968  0.918239  0.013544  0.768707  0.733333\n",
      "251  0.102381  0.217848  0.025132  0.905660  0.025959  0.326531  0.377778\n",
      "252  0.028571  0.102362  0.002646  0.899371  0.038375  0.870748  0.822222\n",
      "253  0.054762  0.446194  1.000000  0.000000  0.042889  0.530612  0.511111\n",
      "254  0.080952  0.047244  0.006614  0.867925  0.047404  0.965986  0.955556\n",
      "255  0.185714  0.076115  0.022487  0.899371  0.033860  0.530612  0.577778\n",
      "256  0.140476  0.175853  0.048280  0.836478  0.045147  0.741497  0.711111\n",
      "257  0.095238  0.275591  0.074074  0.817610  0.000000  0.408163  0.377778\n",
      "258  0.052381  0.023622  0.010582  0.918239  0.047404  0.802721  0.866667\n",
      "259  0.097619  0.065617  0.005291  0.823899  0.031603  0.891156  0.911111\n",
      "260  0.050000  0.068241  0.003968  0.823899  0.022573  0.741497  0.822222\n",
      "261  0.026190  0.094488  0.002646  0.823899  0.049661  0.734694  0.866667\n",
      "262  0.164286  0.049869  0.007937  0.817610  0.048533  0.503401  0.511111\n",
      "263  0.138095  0.519685  0.116402  0.817610  0.047404  0.346939  0.288889\n",
      "264  0.242857  0.094488  0.017196  0.861635  0.063205  0.442177  0.466667\n",
      "265  0.042857  0.104987  0.002646  0.899371  0.022573  0.959184  0.977778\n",
      "266  0.542857  0.036745  0.010582  0.849057  0.027088  0.551020  0.511111\n",
      "267  0.092857  0.041995  0.006614  0.918239  0.049661  0.809524  0.955556\n",
      "268  0.235714  0.097113  0.033069  0.867925  0.038375  0.544218  0.511111\n",
      "269  0.104762  0.057743  0.009259  0.823899  0.027088  0.632653  0.733333\n",
      "270  0.240476  0.052493  0.007937  0.830189  0.021445  0.721088  0.755556\n",
      "271  0.130952  0.028871  0.011905  0.836478  0.015801  0.809524  0.822222\n",
      "272  0.145238  0.020997  0.009259  0.861635  0.018059  0.863946  0.977778\n",
      "273  0.245238  0.362205  0.046296  0.823899  0.056433  0.312925  0.333333\n",
      "274  0.023810  0.146982  0.027778  0.867925  0.020316  0.619048  0.644444\n",
      "275  0.221429  0.215223  0.038360  0.861635  0.029345  0.455782  0.422222\n",
      "276  0.045238  0.283465  0.075397  0.773585  0.038375  0.197279  0.177778\n",
      "277  0.097619  0.062992  0.009259  0.886792  0.029345  0.761905  0.711111\n",
      "278  0.069048  0.023622  0.001323  0.899371  0.018059  0.714286  0.777778\n",
      "279  0.052381  0.057743  0.022487  0.861635  0.033860  0.734694  0.955556\n",
      "\n",
      "[280 rows x 7 columns]\n"
     ]
    }
   ],
   "source": [
    "print(x)"
   ]
  },
  {
   "cell_type": "code",
   "execution_count": 25,
   "metadata": {},
   "outputs": [],
   "source": [
    "y=df.classification.values"
   ]
  },
  {
   "cell_type": "code",
   "execution_count": 26,
   "metadata": {},
   "outputs": [
    {
     "name": "stdout",
     "output_type": "stream",
     "text": [
      "[[20  1]\n",
      " [ 2 33]]\n",
      "              precision    recall  f1-score   support\n",
      "\n",
      "           0       0.91      0.95      0.93        21\n",
      "           1       0.97      0.94      0.96        35\n",
      "\n",
      "   micro avg       0.95      0.95      0.95        56\n",
      "   macro avg       0.94      0.95      0.94        56\n",
      "weighted avg       0.95      0.95      0.95        56\n",
      "\n",
      "0.9464285714285714\n"
     ]
    }
   ],
   "source": [
    "from sklearn.model_selection import train_test_split\n",
    "from sklearn.neighbors import KNeighborsClassifier\n",
    "from sklearn.metrics import classification_report, confusion_matrix\n",
    "x_train, x_test,y_train, y_test=train_test_split(x,y,test_size=0.20,random_state=1)\n",
    "\n",
    "knn=KNeighborsClassifier(n_neighbors=2)\n",
    "knn.fit(x_train,y_train)\n",
    "\n",
    "knn_pred=knn.predict(x_test)\n",
    "\n",
    "print(confusion_matrix(y_test, knn_pred))\n",
    "print(classification_report(y_test, knn_pred))\n",
    "knn_score=knn.score(x_test,y_test)\n",
    "print(knn_score)"
   ]
  },
  {
   "cell_type": "code",
   "execution_count": 27,
   "metadata": {},
   "outputs": [
    {
     "data": {
      "image/png": "[encoded data removed]",
      "text/plain": [
       "<Figure size 432x288 with 1 Axes>"
      ]
     },
     "metadata": {
      "needs_background": "light"
     },
     "output_type": "display_data"
    }
   ],
   "source": [
    "score_list=[]\n",
    "for i in range(1,15):\n",
    "    knn2=KNeighborsClassifier(n_neighbors=i)\n",
    "    knn2.fit(x_train,y_train)\n",
    "    score_list.append(knn2.score(x_test,y_test))\n",
    "    \n",
    "plt.plot(range(1,15),score_list)\n",
    "plt.xlabel(\"k value\")\n",
    "plt.ylabel(\"score\")\n",
    "plt.show()"
   ]
  },
  {
   "cell_type": "code",
   "execution_count": 28,
   "metadata": {},
   "outputs": [
    {
     "name": "stdout",
     "output_type": "stream",
     "text": [
      "[[21  0]\n",
      " [ 1 34]]\n",
      "              precision    recall  f1-score   support\n",
      "\n",
      "           0       0.95      1.00      0.98        21\n",
      "           1       1.00      0.97      0.99        35\n",
      "\n",
      "   micro avg       0.98      0.98      0.98        56\n",
      "   macro avg       0.98      0.99      0.98        56\n",
      "weighted avg       0.98      0.98      0.98        56\n",
      "\n",
      "0.9821428571428571\n"
     ]
    }
   ],
   "source": [
    "knn=KNeighborsClassifier(n_neighbors=4)\n",
    "knn.fit(x_train,y_train)\n",
    "\n",
    "knn_pred=knn.predict(x_test)\n",
    "\n",
    "print(confusion_matrix(y_test, knn_pred))\n",
    "print(classification_report(y_test, knn_pred))\n",
    "knn_score=knn.score(x_test,y_test)\n",
    "print(knn_score)"
   ]
  },
  {
   "cell_type": "code",
   "execution_count": 29,
   "metadata": {},
   "outputs": [
    {
     "name": "stdout",
     "output_type": "stream",
     "text": [
      "[[20  1]\n",
      " [ 2 33]]\n",
      "              precision    recall  f1-score   support\n",
      "\n",
      "           0       0.91      0.95      0.93        21\n",
      "           1       0.97      0.94      0.96        35\n",
      "\n",
      "   micro avg       0.95      0.95      0.95        56\n",
      "   macro avg       0.94      0.95      0.94        56\n",
      "weighted avg       0.95      0.95      0.95        56\n",
      "\n",
      "svm score: 0.9464285714285714\n"
     ]
    }
   ],
   "source": [
    "from sklearn.metrics import classification_report, confusion_matrix\n",
    "from sklearn.svm import SVC\n",
    "svm = SVC(kernel='linear')\n",
    "svm.fit(x_train, y_train)\n",
    "\n",
    "y_pred = svm.predict(x_test)\n",
    "\n",
    "print(confusion_matrix(y_test,y_pred))\n",
    "print(classification_report(y_test,y_pred))\n",
    "print(\"svm score:\",svm.score(x_test,y_test))"
   ]
  },
  {
   "cell_type": "code",
   "execution_count": 30,
   "metadata": {},
   "outputs": [
    {
     "name": "stdout",
     "output_type": "stream",
     "text": [
      "[[19  2]\n",
      " [ 5 30]]\n",
      "              precision    recall  f1-score   support\n",
      "\n",
      "           0       0.79      0.90      0.84        21\n",
      "           1       0.94      0.86      0.90        35\n",
      "\n",
      "   micro avg       0.88      0.88      0.88        56\n",
      "   macro avg       0.86      0.88      0.87        56\n",
      "weighted avg       0.88      0.88      0.88        56\n",
      "\n",
      "dt score: 0.875\n"
     ]
    }
   ],
   "source": [
    "from sklearn.tree import DecisionTreeClassifier\n",
    "dt=DecisionTreeClassifier(random_state=1)\n",
    "dt.fit(x_train,y_train)\n",
    "\n",
    "y_pred = dt.predict(x_test)\n",
    "\n",
    "from sklearn.metrics import classification_report, confusion_matrix\n",
    "print(confusion_matrix(y_test, y_pred))\n",
    "print(classification_report(y_test, y_pred))\n",
    "print(\"dt score:\",dt.score(x_test,y_test))"
   ]
  },
  {
   "cell_type": "code",
   "execution_count": 31,
   "metadata": {},
   "outputs": [
    {
     "name": "stdout",
     "output_type": "stream",
     "text": [
      "[[11  0]\n",
      " [ 1 16]]\n",
      "              precision    recall  f1-score   support\n",
      "\n",
      "           0       0.92      1.00      0.96        11\n",
      "           1       1.00      0.94      0.97        17\n",
      "\n",
      "   micro avg       0.96      0.96      0.96        28\n",
      "   macro avg       0.96      0.97      0.96        28\n",
      "weighted avg       0.97      0.96      0.96        28\n",
      "\n",
      "dt score: 0.9642857142857143\n"
     ]
    }
   ],
   "source": [
    "x_train, x_test,y_train, y_test=train_test_split(x,y,test_size=0.10,random_state=1)\n",
    "from sklearn.tree import DecisionTreeClassifier\n",
    "dt=DecisionTreeClassifier(random_state=1)\n",
    "dt.fit(x_train,y_train)\n",
    "\n",
    "y_pred = dt.predict(x_test)\n",
    "\n",
    "from sklearn.metrics import classification_report, confusion_matrix\n",
    "print(confusion_matrix(y_test, y_pred))\n",
    "print(classification_report(y_test, y_pred))\n",
    "print(\"dt score:\",dt.score(x_test,y_test))"
   ]
  },
  {
   "cell_type": "code",
   "execution_count": 32,
   "metadata": {},
   "outputs": [
    {
     "name": "stdout",
     "output_type": "stream",
     "text": [
      "[[20  1]\n",
      " [ 1 34]]\n",
      "              precision    recall  f1-score   support\n",
      "\n",
      "           0       0.95      0.95      0.95        21\n",
      "           1       0.97      0.97      0.97        35\n",
      "\n",
      "   micro avg       0.96      0.96      0.96        56\n",
      "   macro avg       0.96      0.96      0.96        56\n",
      "weighted avg       0.96      0.96      0.96        56\n",
      "\n",
      "dt score: 0.9642857142857143\n"
     ]
    }
   ],
   "source": [
    "from sklearn.ensemble import RandomForestClassifier\n",
    "from sklearn.tree import DecisionTreeClassifier\n",
    "\n",
    "x_train, x_test,y_train, y_test=train_test_split(x,y,test_size=0.20,random_state=1)\n",
    "rf=RandomForestClassifier(n_estimators=100, random_state=1)\n",
    "rf.fit(x_train,y_train)\n",
    "\n",
    "y_pred = rf.predict(x_test)\n",
    "\n",
    "from sklearn.metrics import classification_report, confusion_matrix\n",
    "print(confusion_matrix(y_test, y_pred))\n",
    "print(classification_report(y_test, y_pred))\n",
    "print(\"dt score:\",rf.score(x_test,y_test))"
   ]
  },
  {
   "cell_type": "code",
   "execution_count": null,
   "metadata": {},
   "outputs": [],
   "source": []
  },
  {
   "cell_type": "code",
   "execution_count": null,
   "metadata": {},
   "outputs": [],
   "source": []
  }
 ],
 "metadata": {
  "kernelspec": {
   "display_name": "Python 3",
   "language": "python",
   "name": "python3"
  },
  "language_info": {
   "codemirror_mode": {
    "name": "ipython",
    "version": 3
   },
   "file_extension": ".py",
   "mimetype": "text/x-python",
   "name": "python",
   "nbconvert_exporter": "python",
   "pygments_lexer": "ipython3",
   "version": "3.7.3"
  }
 },
 "nbformat": 4,
 "nbformat_minor": 2
}
